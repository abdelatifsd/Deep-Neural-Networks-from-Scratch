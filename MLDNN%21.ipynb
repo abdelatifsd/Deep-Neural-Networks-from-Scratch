{
 "cells": [
  {
   "cell_type": "code",
   "execution_count": 148,
   "metadata": {},
   "outputs": [],
   "source": [
    "import numpy as np\n",
    "import matplotlib.pyplot as plt\n",
    "\n",
    "\n",
    "np.random.seed(0)\n",
    "\n",
    "# Data\n",
    "X = np.array([[3,5], [5,1], [10,2], [6,3]])\n",
    "Y = np.array([ [75],   [82],   [93],   [85]])\n",
    "\n",
    "X = X/np.amax(X,axis = 0)\n",
    "Y = Y/100\n",
    "\n",
    "# Activation functions\n",
    "def sigmoid(x,deriv =False):\n",
    "    if deriv == True:\n",
    "        return x*(1-x)\n",
    "    else:\n",
    "        return 1 / ( 1 + np.exp(-x))\n",
    "    \n",
    "    \n",
    "layers = [2,3,1]\n",
    "epochs = 60000\n",
    "\n",
    "\n",
    "#Initializing Parameters\n",
    "weights = {}\n",
    "bias = {}\n",
    "for i in range(len(layers)-1):\n",
    "    weights['W'+str(i+1)] = np.random.uniform(size = (layers[i],layers[i+1]))\n",
    "    bias['b' + str(i+1)] = np.zeros((1,layers[i+1]))\n",
    "\n",
    "    \n",
    "# Feedforward + backpropagation variable initialization\n",
    "\n",
    "A = {'A0':X}\n",
    "\n",
    "delta_iterator = list(range(len(layers)))\n",
    "delta_iterator.reverse()\n",
    "delta = {}\n",
    "dW = {}  \n",
    "costs = []\n",
    "#train\n",
    "\n",
    "for ep in range(epochs):\n",
    "   \n",
    "    #feedforward      \n",
    "    for i in range(len(layers)-1):\n",
    "        A['A'+str(i + 1)] = sigmoid(np.dot(A['A' + str(i)],weights['W'+str(i+1)]) + bias['b'+str(i+1)])\n",
    "\n",
    "\n",
    "    for i in delta_iterator:\n",
    "\n",
    "            if(i!=0):\n",
    "\n",
    "                if(i==delta_iterator[0]):\n",
    "                    error = Y - A['A' + str(i)]\n",
    "                    if ep% 1000 == 0:\n",
    "                        costs.append(error[i])\n",
    "                    delta[\"delta\"+str(i)] = error * sigmoid(A['A' + str(i)],deriv = True)\n",
    "                    dW['dW' + str(i)] = np.dot(A['A' + str(i-1)].T, delta[\"delta\"+str(i)])\n",
    "\n",
    "                else:\n",
    "                    delta[\"delta\"+str(i)] = np.dot(delta[\"delta\"+str(i+1)],weights['W'+str(i+1)].T) * sigmoid(A['A' + str(i)],deriv = True)\n",
    "                    dW['dW' + str(i)] = np.dot(A['A' + str(i-1)].T, delta[\"delta\"+str(i)])\n",
    "\n",
    "                weights['W' + str(i)] += dW['dW' + str(i)]\n",
    "\n",
    "                \n"
   ]
  },
  {
   "cell_type": "code",
   "execution_count": 149,
   "metadata": {},
   "outputs": [
    {
     "data": {
      "text/plain": [
       "[]"
      ]
     },
     "execution_count": 149,
     "metadata": {},
     "output_type": "execute_result"
    }
   ],
   "source": [
    "plt.plot(costs)\n",
    "plt.plot()"
   ]
  },
  {
   "cell_type": "code",
   "execution_count": null,
   "metadata": {},
   "outputs": [],
   "source": []
  },
  {
   "cell_type": "code",
   "execution_count": 150,
   "metadata": {},
   "outputs": [
    {
     "data": {
      "text/plain": [
       "array([[ 0.74910695],\n",
       "       [ 0.8198829 ],\n",
       "       [ 0.92666142],\n",
       "       [ 0.85331035]])"
      ]
     },
     "execution_count": 150,
     "metadata": {},
     "output_type": "execute_result"
    }
   ],
   "source": [
    "A['A2']"
   ]
  },
  {
   "cell_type": "code",
   "execution_count": null,
   "metadata": {
    "collapsed": true
   },
   "outputs": [],
   "source": []
  }
 ],
 "metadata": {
  "kernelspec": {
   "display_name": "Python 3",
   "language": "python",
   "name": "python3"
  },
  "language_info": {
   "codemirror_mode": {
    "name": "ipython",
    "version": 3
   },
   "file_extension": ".py",
   "mimetype": "text/x-python",
   "name": "python",
   "nbconvert_exporter": "python",
   "pygments_lexer": "ipython3",
   "version": "3.5.4"
  }
 },
 "nbformat": 4,
 "nbformat_minor": 2
}
