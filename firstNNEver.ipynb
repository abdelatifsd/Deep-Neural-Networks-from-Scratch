{
 "cells": [
  {
   "cell_type": "code",
   "execution_count": 30,
   "metadata": {
    "collapsed": true
   },
   "outputs": [],
   "source": [
    "#hyperparameters\n",
    "import numpy as np\n",
    "\n",
    " \n",
    "X = np.array([[3,5], [5,1], [10,2], [6,3]])\n",
    "Y = np.array([ [75],   [82],   [93],   [85]])\n",
    "\n",
    "X = X/np.amax(X,axis = 0)\n",
    "Y = Y/100\n",
    "inputLayer,hiddenLayer1,hiddenLayer2,outputLayer = 2,3,3,1\n",
    "\n",
    "\n",
    "W1 = np.random.uniform(size=(inputLayer,hiddenLayer1)) \n",
    "W2 = np.random.uniform(size=(hiddenLayer1,hiddenLayer2)) \n",
    "W3 = np.random.uniform(size=(hiddenLayer2,outputLayer)) \n",
    "\n",
    "b1 = np.zeros((1,hiddenLayer1))\n",
    "b2 = np.zeros((1,hiddenLayer2))\n",
    "b3 = np.zeros((1,outputLayer))\n",
    "\n",
    "\n",
    "#activationFunctions\n",
    "\n",
    "def sigmoid(x, deriv = False):\n",
    "    if deriv == True:\n",
    "        return x * (1-x)\n",
    "    else:\n",
    "        return (1/(1+np.exp(-x)))\n",
    "    \n"
   ]
  },
  {
   "cell_type": "code",
   "execution_count": 31,
   "metadata": {},
   "outputs": [
    {
     "name": "stdout",
     "output_type": "stream",
     "text": [
      "[[ 0.75]\n",
      " [ 0.82]\n",
      " [ 0.93]\n",
      " [ 0.85]]\n"
     ]
    }
   ],
   "source": [
    "for i in range(120000):\n",
    "   \n",
    "    #forward\n",
    "    \n",
    "    A1 = sigmoid(np.dot(X,W1) + b1)\n",
    "    A2 = sigmoid(np.dot(A1,W2) + b2)\n",
    "    A3 = sigmoid(np.dot(A2,W3) + b3)\n",
    "    \n",
    "    #backward\n",
    "    error = Y - A3\n",
    "    \n",
    "    delta3 = error  * sigmoid(A3,deriv = True)\n",
    "    dW3 = np.dot(A2.T,delta3)\n",
    "    \n",
    "    delta2 = np.dot(delta3,W3.T) * sigmoid(A2,deriv = True)\n",
    "    dW2 = np.dot(A1.T,delta2)\n",
    "    \n",
    "    delta1 = np.dot(delta2,W2.T) * sigmoid(A1,deriv = True)\n",
    "    dW1= np.dot(X.T,delta1)\n",
    "    \n",
    "    \n",
    "    \n",
    "    \n",
    "    W1 += dW1\n",
    "    W2 += dW2  \n",
    "    W3 += dW3 \n",
    "    \n",
    "\n",
    "    \n",
    "print(A3)"
   ]
  },
  {
   "cell_type": "code",
   "execution_count": 22,
   "metadata": {},
   "outputs": [
    {
     "data": {
      "text/plain": [
       "array([[ 0.75],\n",
       "       [ 0.82],\n",
       "       [ 0.93],\n",
       "       [ 0.85]])"
      ]
     },
     "execution_count": 22,
     "metadata": {},
     "output_type": "execute_result"
    }
   ],
   "source": [
    "Y"
   ]
  },
  {
   "cell_type": "code",
   "execution_count": 18,
   "metadata": {},
   "outputs": [
    {
     "data": {
      "text/plain": [
       "1"
      ]
     },
     "execution_count": 18,
     "metadata": {},
     "output_type": "execute_result"
    }
   ],
   "source": [
    "A"
   ]
  },
  {
   "cell_type": "code",
   "execution_count": null,
   "metadata": {
    "collapsed": true
   },
   "outputs": [],
   "source": []
  }
 ],
 "metadata": {
  "kernelspec": {
   "display_name": "Python 3",
   "language": "python",
   "name": "python3"
  },
  "language_info": {
   "codemirror_mode": {
    "name": "ipython",
    "version": 3
   },
   "file_extension": ".py",
   "mimetype": "text/x-python",
   "name": "python",
   "nbconvert_exporter": "python",
   "pygments_lexer": "ipython3",
   "version": "3.5.4"
  }
 },
 "nbformat": 4,
 "nbformat_minor": 2
}
